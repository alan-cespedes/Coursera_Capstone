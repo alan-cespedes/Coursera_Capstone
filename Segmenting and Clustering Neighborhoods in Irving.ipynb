{
    "nbformat_minor": 1, 
    "cells": [
        {
            "source": "# Segmenting and Clustering Neighborhoods in Irving\n***", 
            "cell_type": "markdown", 
            "metadata": {
                "collapsed": true
            }
        }, 
        {
            "source": "## Introduction/Business Problem", 
            "cell_type": "markdown", 
            "metadata": {}
        }, 
        {
            "source": "The City of Irving Texas, located in the DFW area between DFW Airport and Dallas, is a city surrounded by major highways and is an interface to neighboring areas. \nUnderstanding the area well I would like to draw conclusions from segmenting and clustering neighborhood data obtained from foursquare. \nThe conclusions will be the best locations to put particular stores. \n\nAdditionally, I would speculate that more high end stores would be in the North areas of Irving and fast foods would be more common in the central and south. ", 
            "cell_type": "markdown", 
            "metadata": {}
        }, 
        {
            "source": "## Data", 
            "cell_type": "markdown", 
            "metadata": {}
        }, 
        {
            "source": "The data would be modeled similarly to the New York City and Toronto problems. However, Irving, and all of Texas, do not have Boroughs so we will only need neighborhood names. \nAfter initial looking Wikipedia does not have a list so I found a list on a different site `http://www.city-data.com/nbmaps/neigh-Irving-Texas.html#N5`. In the next sections I will scrub the data.\n\nThe pipeline following getting neighborhood names would be to use `geocoder` to get the Latitude and Longitudes respectively.", 
            "cell_type": "markdown", 
            "metadata": {}
        }, 
        {
            "source": "## Implementation", 
            "cell_type": "markdown", 
            "metadata": {}
        }, 
        {
            "source": "A list of Neighborhoods in Irving is not available nicely on the internet so we will have to scrub it", 
            "cell_type": "markdown", 
            "metadata": {}
        }, 
        {
            "execution_count": 6, 
            "cell_type": "code", 
            "metadata": {}, 
            "outputs": [], 
            "source": "import imp\nimport numpy as np # library to handle data in a vectorized manner\nimport pandas as pd\nimport re\nfrom pandas.io.json import json_normalize # tranform JSON file into a pandas dataframe\nimport requests\nimport json\n# Matplotlib and associated plotting modules\nimport matplotlib.cm as cm\nimport matplotlib.colors as colors\n\n# import k-means from clustering stage\nfrom sklearn.cluster import KMeans\n\n# !conda install -c conda-forge geocoder\ntry:\n    imp.find_module('geocoder')\nexcept ImportError:\n    !conda install -c conda-forge geocoder \nfrom geopy.geocoders import Nominatim\nimport geocoder\n\n# !conda install -c conda-forge folium=0.5.0 --yes\ntry:\n    imp.find_module('folium')\nexcept ImportError:\n    !conda install -c conda-forge folium=0.5.0 --yes\nimport folium # map rendering library"
        }, 
        {
            "execution_count": 9, 
            "cell_type": "code", 
            "metadata": {}, 
            "outputs": [
                {
                    "execution_count": 9, 
                    "metadata": {}, 
                    "data": {
                        "text/html": "<div>\n<style scoped>\n    .dataframe tbody tr th:only-of-type {\n        vertical-align: middle;\n    }\n\n    .dataframe tbody tr th {\n        vertical-align: top;\n    }\n\n    .dataframe thead th {\n        text-align: right;\n    }\n</style>\n<table border=\"1\" class=\"dataframe\">\n  <thead>\n    <tr style=\"text-align: right;\">\n      <th></th>\n      <th>Neighborhood</th>\n    </tr>\n  </thead>\n  <tbody>\n    <tr>\n      <th>0</th>\n      <td>Arts District</td>\n    </tr>\n    <tr>\n      <th>1</th>\n      <td>Barton Estates</td>\n    </tr>\n    <tr>\n      <th>2</th>\n      <td>Beverly Oaks</td>\n    </tr>\n    <tr>\n      <th>3</th>\n      <td>Broadmoor Hills</td>\n    </tr>\n    <tr>\n      <th>4</th>\n      <td>Cardinal Family Village</td>\n    </tr>\n    <tr>\n      <th>5</th>\n      <td>Club Townhomes</td>\n    </tr>\n    <tr>\n      <th>6</th>\n      <td>Cottonwood Valley</td>\n    </tr>\n    <tr>\n      <th>7</th>\n      <td>Country Club Place</td>\n    </tr>\n    <tr>\n      <th>8</th>\n      <td>Del Paseo</td>\n    </tr>\n    <tr>\n      <th>9</th>\n      <td>Downtown Heritage District</td>\n    </tr>\n  </tbody>\n</table>\n</div>", 
                        "text/plain": "                 Neighborhood\n0               Arts District\n1              Barton Estates\n2                Beverly Oaks\n3             Broadmoor Hills\n4     Cardinal Family Village\n5              Club Townhomes\n6           Cottonwood Valley\n7          Country Club Place\n8                   Del Paseo\n9  Downtown Heritage District"
                    }, 
                    "output_type": "execute_result"
                }
            ], 
            "source": "url =\"http://www.city-data.com/nbmaps/neigh-Irving-Texas.html#N5\"\n\nbody = requests.get(url)\ntext = body.text\nstart = text.find(\">Neighborhoods:</h2>\") + len(\">Neighborhoods:</h2>\") + 1\nend = text.find(\">Woodhaven</a>\") + len(\">Woodhaven</a>\")\ntext = text[start:end]\n\ntext = re.sub(\"<.*?>\", \" \", text) # remove all tag elements\ntext = text.split(',') # split by comma\ntext = [x.strip() for x in text] # trim leading and trailing whitespace\n\ndf = pd.DataFrame(data = {'Neighborhood': text})\ndf.head(10)"
        }, 
        {
            "source": "#### Adding Latitude and Longitude", 
            "cell_type": "markdown", 
            "metadata": {}
        }, 
        {
            "execution_count": 10, 
            "cell_type": "code", 
            "metadata": {}, 
            "outputs": [
                {
                    "execution_count": 10, 
                    "metadata": {}, 
                    "data": {
                        "text/html": "<div>\n<style scoped>\n    .dataframe tbody tr th:only-of-type {\n        vertical-align: middle;\n    }\n\n    .dataframe tbody tr th {\n        vertical-align: top;\n    }\n\n    .dataframe thead th {\n        text-align: right;\n    }\n</style>\n<table border=\"1\" class=\"dataframe\">\n  <thead>\n    <tr style=\"text-align: right;\">\n      <th></th>\n      <th>Neighborhood</th>\n      <th>Latitude</th>\n      <th>Longitude</th>\n    </tr>\n  </thead>\n  <tbody>\n    <tr>\n      <th>0</th>\n      <td>Arts District</td>\n      <td></td>\n      <td></td>\n    </tr>\n    <tr>\n      <th>1</th>\n      <td>Barton Estates</td>\n      <td></td>\n      <td></td>\n    </tr>\n    <tr>\n      <th>2</th>\n      <td>Beverly Oaks</td>\n      <td></td>\n      <td></td>\n    </tr>\n    <tr>\n      <th>3</th>\n      <td>Broadmoor Hills</td>\n      <td></td>\n      <td></td>\n    </tr>\n    <tr>\n      <th>4</th>\n      <td>Cardinal Family Village</td>\n      <td></td>\n      <td></td>\n    </tr>\n    <tr>\n      <th>5</th>\n      <td>Club Townhomes</td>\n      <td></td>\n      <td></td>\n    </tr>\n    <tr>\n      <th>6</th>\n      <td>Cottonwood Valley</td>\n      <td></td>\n      <td></td>\n    </tr>\n    <tr>\n      <th>7</th>\n      <td>Country Club Place</td>\n      <td></td>\n      <td></td>\n    </tr>\n    <tr>\n      <th>8</th>\n      <td>Del Paseo</td>\n      <td></td>\n      <td></td>\n    </tr>\n    <tr>\n      <th>9</th>\n      <td>Downtown Heritage District</td>\n      <td></td>\n      <td></td>\n    </tr>\n  </tbody>\n</table>\n</div>", 
                        "text/plain": "                 Neighborhood Latitude Longitude\n0               Arts District                   \n1              Barton Estates                   \n2                Beverly Oaks                   \n3             Broadmoor Hills                   \n4     Cardinal Family Village                   \n5              Club Townhomes                   \n6           Cottonwood Valley                   \n7          Country Club Place                   \n8                   Del Paseo                   \n9  Downtown Heritage District                   "
                    }, 
                    "output_type": "execute_result"
                }
            ], 
            "source": "df[\"Latitude\"] = \"\"\ndf[\"Longitude\"] = \"\"\ndf.head(10)"
        }, 
        {
            "execution_count": 11, 
            "cell_type": "code", 
            "metadata": {}, 
            "outputs": [], 
            "source": "for index, row in df.iterrows():\n    # initialize your variable to None\n    lat_lng_coords = None\n    postal_code = row['Neighborhood']\n    # loop until you get the coordinates\n    while(lat_lng_coords is None):\n        g = geocoder.google('{}, Irving, Texas'.format(postal_code))\n        lat_lng_coords = g.latlng\n\n    latitude = lat_lng_coords[0]\n    longitude = lat_lng_coords[1]\n    row[\"Latitude\"] = latitude\n    row[\"Longitude\"] = longitude"
        }, 
        {
            "execution_count": 12, 
            "cell_type": "code", 
            "metadata": {}, 
            "outputs": [
                {
                    "execution_count": 12, 
                    "metadata": {}, 
                    "data": {
                        "text/html": "<div>\n<style scoped>\n    .dataframe tbody tr th:only-of-type {\n        vertical-align: middle;\n    }\n\n    .dataframe tbody tr th {\n        vertical-align: top;\n    }\n\n    .dataframe thead th {\n        text-align: right;\n    }\n</style>\n<table border=\"1\" class=\"dataframe\">\n  <thead>\n    <tr style=\"text-align: right;\">\n      <th></th>\n      <th>Neighborhood</th>\n      <th>Latitude</th>\n      <th>Longitude</th>\n    </tr>\n  </thead>\n  <tbody>\n    <tr>\n      <th>0</th>\n      <td>Arts District</td>\n      <td>32.848551</td>\n      <td>-96.966548</td>\n    </tr>\n    <tr>\n      <th>1</th>\n      <td>Barton Estates</td>\n      <td>32.824903</td>\n      <td>-96.988034</td>\n    </tr>\n    <tr>\n      <th>2</th>\n      <td>Beverly Oaks</td>\n      <td>32.833081</td>\n      <td>-96.927017</td>\n    </tr>\n    <tr>\n      <th>3</th>\n      <td>Broadmoor Hills</td>\n      <td>32.876134</td>\n      <td>-97.000122</td>\n    </tr>\n    <tr>\n      <th>4</th>\n      <td>Cardinal Family Village</td>\n      <td>32.84782</td>\n      <td>-96.954465</td>\n    </tr>\n    <tr>\n      <th>5</th>\n      <td>Club Townhomes</td>\n      <td>32.823383</td>\n      <td>-96.939296</td>\n    </tr>\n    <tr>\n      <th>6</th>\n      <td>Cottonwood Valley</td>\n      <td>32.861251</td>\n      <td>-96.965205</td>\n    </tr>\n    <tr>\n      <th>7</th>\n      <td>Country Club Place</td>\n      <td>32.863181</td>\n      <td>-96.949431</td>\n    </tr>\n    <tr>\n      <th>8</th>\n      <td>Del Paseo</td>\n      <td>32.832752</td>\n      <td>-96.960506</td>\n    </tr>\n    <tr>\n      <th>9</th>\n      <td>Downtown Heritage District</td>\n      <td>32.814701</td>\n      <td>-96.947804</td>\n    </tr>\n  </tbody>\n</table>\n</div>", 
                        "text/plain": "                 Neighborhood   Latitude  Longitude\n0               Arts District  32.848551 -96.966548\n1              Barton Estates  32.824903 -96.988034\n2                Beverly Oaks  32.833081 -96.927017\n3             Broadmoor Hills  32.876134 -97.000122\n4     Cardinal Family Village   32.84782 -96.954465\n5              Club Townhomes  32.823383 -96.939296\n6           Cottonwood Valley  32.861251 -96.965205\n7          Country Club Place  32.863181 -96.949431\n8                   Del Paseo  32.832752 -96.960506\n9  Downtown Heritage District  32.814701 -96.947804"
                    }, 
                    "output_type": "execute_result"
                }
            ], 
            "source": "pd.set_option('precision', 8)\ndf.head(10)"
        }, 
        {
            "execution_count": null, 
            "cell_type": "code", 
            "metadata": {}, 
            "outputs": [], 
            "source": ""
        }
    ], 
    "metadata": {
        "kernelspec": {
            "display_name": "Python 3.5", 
            "name": "python3", 
            "language": "python"
        }, 
        "language_info": {
            "mimetype": "text/x-python", 
            "nbconvert_exporter": "python", 
            "version": "3.5.5", 
            "name": "python", 
            "file_extension": ".py", 
            "pygments_lexer": "ipython3", 
            "codemirror_mode": {
                "version": 3, 
                "name": "ipython"
            }
        }
    }, 
    "nbformat": 4
}